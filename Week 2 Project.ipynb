{
 "cells": [
  {
   "cell_type": "markdown",
   "metadata": {},
   "source": [
    "# Exploratory Data Analysis"
   ]
  },
  {
   "cell_type": "markdown",
   "metadata": {},
   "source": [
    "## Week 2 Assignment"
   ]
  },
  {
   "cell_type": "code",
   "execution_count": 481,
   "metadata": {},
   "outputs": [],
   "source": [
    "import pandas as pd\n",
    "import numpy as np\n",
    "import matplotlib.pyplot as plt\n",
    "import seaborn as sns\n",
    "from scipy import stats\n",
    "from IPython.display import Image\n",
    "from ipywidgets import interact, fixed"
   ]
  },
  {
   "cell_type": "markdown",
   "metadata": {},
   "source": [
    "## First, we need to read the dataset into our file and explore it a little.\n",
    "### This dataset was obtained from Kaggle.  Due to the fact that I play soccer, I thought this would be an interesting dataset to look at to find any potential tips on how to become a better player.\n",
    "#### Here is the link for anyone who also wants this dataset: https://www.kaggle.com/karangadiya/fifa19"
   ]
  },
  {
   "cell_type": "code",
   "execution_count": 482,
   "metadata": {},
   "outputs": [
    {
     "data": {
      "text/html": [
       "<div>\n",
       "<style scoped>\n",
       "    .dataframe tbody tr th:only-of-type {\n",
       "        vertical-align: middle;\n",
       "    }\n",
       "\n",
       "    .dataframe tbody tr th {\n",
       "        vertical-align: top;\n",
       "    }\n",
       "\n",
       "    .dataframe thead th {\n",
       "        text-align: right;\n",
       "    }\n",
       "</style>\n",
       "<table border=\"1\" class=\"dataframe\">\n",
       "  <thead>\n",
       "    <tr style=\"text-align: right;\">\n",
       "      <th></th>\n",
       "      <th>Unnamed: 0</th>\n",
       "      <th>ID</th>\n",
       "      <th>Name</th>\n",
       "      <th>Age</th>\n",
       "      <th>Photo</th>\n",
       "      <th>Nationality</th>\n",
       "      <th>Flag</th>\n",
       "      <th>Overall</th>\n",
       "      <th>Potential</th>\n",
       "      <th>Club</th>\n",
       "      <th>...</th>\n",
       "      <th>Composure</th>\n",
       "      <th>Marking</th>\n",
       "      <th>StandingTackle</th>\n",
       "      <th>SlidingTackle</th>\n",
       "      <th>GKDiving</th>\n",
       "      <th>GKHandling</th>\n",
       "      <th>GKKicking</th>\n",
       "      <th>GKPositioning</th>\n",
       "      <th>GKReflexes</th>\n",
       "      <th>Release Clause</th>\n",
       "    </tr>\n",
       "  </thead>\n",
       "  <tbody>\n",
       "    <tr>\n",
       "      <th>0</th>\n",
       "      <td>0</td>\n",
       "      <td>158023</td>\n",
       "      <td>L. Messi</td>\n",
       "      <td>31</td>\n",
       "      <td>https://cdn.sofifa.org/players/4/19/158023.png</td>\n",
       "      <td>Argentina</td>\n",
       "      <td>https://cdn.sofifa.org/flags/52.png</td>\n",
       "      <td>94</td>\n",
       "      <td>94</td>\n",
       "      <td>FC Barcelona</td>\n",
       "      <td>...</td>\n",
       "      <td>96.0</td>\n",
       "      <td>33.0</td>\n",
       "      <td>28.0</td>\n",
       "      <td>26.0</td>\n",
       "      <td>6.0</td>\n",
       "      <td>11.0</td>\n",
       "      <td>15.0</td>\n",
       "      <td>14.0</td>\n",
       "      <td>8.0</td>\n",
       "      <td>€226.5M</td>\n",
       "    </tr>\n",
       "    <tr>\n",
       "      <th>1</th>\n",
       "      <td>1</td>\n",
       "      <td>20801</td>\n",
       "      <td>Cristiano Ronaldo</td>\n",
       "      <td>33</td>\n",
       "      <td>https://cdn.sofifa.org/players/4/19/20801.png</td>\n",
       "      <td>Portugal</td>\n",
       "      <td>https://cdn.sofifa.org/flags/38.png</td>\n",
       "      <td>94</td>\n",
       "      <td>94</td>\n",
       "      <td>Juventus</td>\n",
       "      <td>...</td>\n",
       "      <td>95.0</td>\n",
       "      <td>28.0</td>\n",
       "      <td>31.0</td>\n",
       "      <td>23.0</td>\n",
       "      <td>7.0</td>\n",
       "      <td>11.0</td>\n",
       "      <td>15.0</td>\n",
       "      <td>14.0</td>\n",
       "      <td>11.0</td>\n",
       "      <td>€127.1M</td>\n",
       "    </tr>\n",
       "    <tr>\n",
       "      <th>2</th>\n",
       "      <td>2</td>\n",
       "      <td>190871</td>\n",
       "      <td>Neymar Jr</td>\n",
       "      <td>26</td>\n",
       "      <td>https://cdn.sofifa.org/players/4/19/190871.png</td>\n",
       "      <td>Brazil</td>\n",
       "      <td>https://cdn.sofifa.org/flags/54.png</td>\n",
       "      <td>92</td>\n",
       "      <td>93</td>\n",
       "      <td>Paris Saint-Germain</td>\n",
       "      <td>...</td>\n",
       "      <td>94.0</td>\n",
       "      <td>27.0</td>\n",
       "      <td>24.0</td>\n",
       "      <td>33.0</td>\n",
       "      <td>9.0</td>\n",
       "      <td>9.0</td>\n",
       "      <td>15.0</td>\n",
       "      <td>15.0</td>\n",
       "      <td>11.0</td>\n",
       "      <td>€228.1M</td>\n",
       "    </tr>\n",
       "    <tr>\n",
       "      <th>3</th>\n",
       "      <td>3</td>\n",
       "      <td>193080</td>\n",
       "      <td>De Gea</td>\n",
       "      <td>27</td>\n",
       "      <td>https://cdn.sofifa.org/players/4/19/193080.png</td>\n",
       "      <td>Spain</td>\n",
       "      <td>https://cdn.sofifa.org/flags/45.png</td>\n",
       "      <td>91</td>\n",
       "      <td>93</td>\n",
       "      <td>Manchester United</td>\n",
       "      <td>...</td>\n",
       "      <td>68.0</td>\n",
       "      <td>15.0</td>\n",
       "      <td>21.0</td>\n",
       "      <td>13.0</td>\n",
       "      <td>90.0</td>\n",
       "      <td>85.0</td>\n",
       "      <td>87.0</td>\n",
       "      <td>88.0</td>\n",
       "      <td>94.0</td>\n",
       "      <td>€138.6M</td>\n",
       "    </tr>\n",
       "    <tr>\n",
       "      <th>4</th>\n",
       "      <td>4</td>\n",
       "      <td>192985</td>\n",
       "      <td>K. De Bruyne</td>\n",
       "      <td>27</td>\n",
       "      <td>https://cdn.sofifa.org/players/4/19/192985.png</td>\n",
       "      <td>Belgium</td>\n",
       "      <td>https://cdn.sofifa.org/flags/7.png</td>\n",
       "      <td>91</td>\n",
       "      <td>92</td>\n",
       "      <td>Manchester City</td>\n",
       "      <td>...</td>\n",
       "      <td>88.0</td>\n",
       "      <td>68.0</td>\n",
       "      <td>58.0</td>\n",
       "      <td>51.0</td>\n",
       "      <td>15.0</td>\n",
       "      <td>13.0</td>\n",
       "      <td>5.0</td>\n",
       "      <td>10.0</td>\n",
       "      <td>13.0</td>\n",
       "      <td>€196.4M</td>\n",
       "    </tr>\n",
       "  </tbody>\n",
       "</table>\n",
       "<p>5 rows × 89 columns</p>\n",
       "</div>"
      ],
      "text/plain": [
       "   Unnamed: 0      ID               Name  Age  \\\n",
       "0           0  158023           L. Messi   31   \n",
       "1           1   20801  Cristiano Ronaldo   33   \n",
       "2           2  190871          Neymar Jr   26   \n",
       "3           3  193080             De Gea   27   \n",
       "4           4  192985       K. De Bruyne   27   \n",
       "\n",
       "                                            Photo Nationality  \\\n",
       "0  https://cdn.sofifa.org/players/4/19/158023.png   Argentina   \n",
       "1   https://cdn.sofifa.org/players/4/19/20801.png    Portugal   \n",
       "2  https://cdn.sofifa.org/players/4/19/190871.png      Brazil   \n",
       "3  https://cdn.sofifa.org/players/4/19/193080.png       Spain   \n",
       "4  https://cdn.sofifa.org/players/4/19/192985.png     Belgium   \n",
       "\n",
       "                                  Flag  Overall  Potential  \\\n",
       "0  https://cdn.sofifa.org/flags/52.png       94         94   \n",
       "1  https://cdn.sofifa.org/flags/38.png       94         94   \n",
       "2  https://cdn.sofifa.org/flags/54.png       92         93   \n",
       "3  https://cdn.sofifa.org/flags/45.png       91         93   \n",
       "4   https://cdn.sofifa.org/flags/7.png       91         92   \n",
       "\n",
       "                  Club  ... Composure Marking StandingTackle  SlidingTackle  \\\n",
       "0         FC Barcelona  ...      96.0    33.0           28.0           26.0   \n",
       "1             Juventus  ...      95.0    28.0           31.0           23.0   \n",
       "2  Paris Saint-Germain  ...      94.0    27.0           24.0           33.0   \n",
       "3    Manchester United  ...      68.0    15.0           21.0           13.0   \n",
       "4      Manchester City  ...      88.0    68.0           58.0           51.0   \n",
       "\n",
       "  GKDiving  GKHandling  GKKicking  GKPositioning GKReflexes Release Clause  \n",
       "0      6.0        11.0       15.0           14.0        8.0        €226.5M  \n",
       "1      7.0        11.0       15.0           14.0       11.0        €127.1M  \n",
       "2      9.0         9.0       15.0           15.0       11.0        €228.1M  \n",
       "3     90.0        85.0       87.0           88.0       94.0        €138.6M  \n",
       "4     15.0        13.0        5.0           10.0       13.0        €196.4M  \n",
       "\n",
       "[5 rows x 89 columns]"
      ]
     },
     "execution_count": 482,
     "metadata": {},
     "output_type": "execute_result"
    }
   ],
   "source": [
    "soccer_dataset = pd.read_csv(\"data.csv\")\n",
    "soccer_dataset.head()"
   ]
  },
  {
   "cell_type": "code",
   "execution_count": 483,
   "metadata": {},
   "outputs": [
    {
     "data": {
      "text/plain": [
       "(18207, 89)"
      ]
     },
     "execution_count": 483,
     "metadata": {},
     "output_type": "execute_result"
    }
   ],
   "source": [
    "soccer_dataset.shape"
   ]
  },
  {
   "cell_type": "code",
   "execution_count": 484,
   "metadata": {},
   "outputs": [
    {
     "data": {
      "text/plain": [
       "Unnamed: 0                    int64\n",
       "ID                            int64\n",
       "Name                         object\n",
       "Age                           int64\n",
       "Photo                        object\n",
       "Nationality                  object\n",
       "Flag                         object\n",
       "Overall                       int64\n",
       "Potential                     int64\n",
       "Club                         object\n",
       "Club Logo                    object\n",
       "Value                        object\n",
       "Wage                         object\n",
       "Special                       int64\n",
       "Preferred Foot               object\n",
       "International Reputation    float64\n",
       "Weak Foot                   float64\n",
       "Skill Moves                 float64\n",
       "Work Rate                    object\n",
       "Body Type                    object\n",
       "Real Face                    object\n",
       "Position                     object\n",
       "Jersey Number               float64\n",
       "Joined                       object\n",
       "Loaned From                  object\n",
       "Contract Valid Until         object\n",
       "Height                       object\n",
       "Weight                       object\n",
       "LS                           object\n",
       "ST                           object\n",
       "                             ...   \n",
       "Dribbling                   float64\n",
       "Curve                       float64\n",
       "FKAccuracy                  float64\n",
       "LongPassing                 float64\n",
       "BallControl                 float64\n",
       "Acceleration                float64\n",
       "SprintSpeed                 float64\n",
       "Agility                     float64\n",
       "Reactions                   float64\n",
       "Balance                     float64\n",
       "ShotPower                   float64\n",
       "Jumping                     float64\n",
       "Stamina                     float64\n",
       "Strength                    float64\n",
       "LongShots                   float64\n",
       "Aggression                  float64\n",
       "Interceptions               float64\n",
       "Positioning                 float64\n",
       "Vision                      float64\n",
       "Penalties                   float64\n",
       "Composure                   float64\n",
       "Marking                     float64\n",
       "StandingTackle              float64\n",
       "SlidingTackle               float64\n",
       "GKDiving                    float64\n",
       "GKHandling                  float64\n",
       "GKKicking                   float64\n",
       "GKPositioning               float64\n",
       "GKReflexes                  float64\n",
       "Release Clause               object\n",
       "Length: 89, dtype: object"
      ]
     },
     "execution_count": 484,
     "metadata": {},
     "output_type": "execute_result"
    }
   ],
   "source": [
    "soccer_dataset.dtypes"
   ]
  },
  {
   "cell_type": "markdown",
   "metadata": {},
   "source": [
    "## Next, we need to check the dataset for duplicates."
   ]
  },
  {
   "cell_type": "code",
   "execution_count": 485,
   "metadata": {},
   "outputs": [
    {
     "data": {
      "text/plain": [
       "(0, 89)"
      ]
     },
     "execution_count": 485,
     "metadata": {},
     "output_type": "execute_result"
    }
   ],
   "source": [
    "soccer_dataset[soccer_dataset.duplicated()].shape"
   ]
  },
  {
   "cell_type": "markdown",
   "metadata": {},
   "source": [
    "This shows us that there are no duplicates in this dataset, so we can continue onto the next step."
   ]
  },
  {
   "cell_type": "markdown",
   "metadata": {},
   "source": [
    "## Now, we need to clean up this dataset a little bit.\n",
    "There are quite a few columns, so we can delete some of the unnecessary ones."
   ]
  },
  {
   "cell_type": "code",
   "execution_count": 486,
   "metadata": {},
   "outputs": [],
   "source": [
    "del soccer_dataset['Photo']\n",
    "del soccer_dataset['Flag']\n",
    "del soccer_dataset['Club Logo']\n",
    "del soccer_dataset['Body Type']\n",
    "del soccer_dataset['Real Face']\n",
    "del soccer_dataset['LS']\n",
    "del soccer_dataset['ST']\n",
    "del soccer_dataset['RW']\n",
    "del soccer_dataset['LW']\n",
    "del soccer_dataset['RS']\n",
    "del soccer_dataset['LF']\n",
    "del soccer_dataset['CM']\n",
    "del soccer_dataset['RF']\n",
    "del soccer_dataset['LAM']\n",
    "del soccer_dataset['CAM']\n",
    "del soccer_dataset['RAM']\n",
    "del soccer_dataset['LM']\n",
    "del soccer_dataset['LCM']\n",
    "del soccer_dataset['RM']\n",
    "del soccer_dataset['RCM']\n",
    "del soccer_dataset['LB']\n",
    "del soccer_dataset['RWB']\n",
    "del soccer_dataset['RDM']\n",
    "del soccer_dataset['CDM']\n",
    "del soccer_dataset['LDM']\n",
    "del soccer_dataset['LWB']\n",
    "del soccer_dataset['CF']\n",
    "del soccer_dataset['LCB']\n",
    "del soccer_dataset['CB']\n",
    "del soccer_dataset['RCB']\n",
    "del soccer_dataset['RB']\n",
    "del soccer_dataset['GKDiving']\n",
    "del soccer_dataset['GKHandling']\n",
    "del soccer_dataset['GKKicking']\n",
    "del soccer_dataset['GKPositioning']\n",
    "del soccer_dataset['GKReflexes']"
   ]
  },
  {
   "cell_type": "code",
   "execution_count": 487,
   "metadata": {
    "scrolled": true
   },
   "outputs": [
    {
     "data": {
      "text/plain": [
       "Unnamed: 0                    int64\n",
       "ID                            int64\n",
       "Name                         object\n",
       "Age                           int64\n",
       "Nationality                  object\n",
       "Overall                       int64\n",
       "Potential                     int64\n",
       "Club                         object\n",
       "Value                        object\n",
       "Wage                         object\n",
       "Special                       int64\n",
       "Preferred Foot               object\n",
       "International Reputation    float64\n",
       "Weak Foot                   float64\n",
       "Skill Moves                 float64\n",
       "Work Rate                    object\n",
       "Position                     object\n",
       "Jersey Number               float64\n",
       "Joined                       object\n",
       "Loaned From                  object\n",
       "Contract Valid Until         object\n",
       "Height                       object\n",
       "Weight                       object\n",
       "Crossing                    float64\n",
       "Finishing                   float64\n",
       "HeadingAccuracy             float64\n",
       "ShortPassing                float64\n",
       "Volleys                     float64\n",
       "Dribbling                   float64\n",
       "Curve                       float64\n",
       "FKAccuracy                  float64\n",
       "LongPassing                 float64\n",
       "BallControl                 float64\n",
       "Acceleration                float64\n",
       "SprintSpeed                 float64\n",
       "Agility                     float64\n",
       "Reactions                   float64\n",
       "Balance                     float64\n",
       "ShotPower                   float64\n",
       "Jumping                     float64\n",
       "Stamina                     float64\n",
       "Strength                    float64\n",
       "LongShots                   float64\n",
       "Aggression                  float64\n",
       "Interceptions               float64\n",
       "Positioning                 float64\n",
       "Vision                      float64\n",
       "Penalties                   float64\n",
       "Composure                   float64\n",
       "Marking                     float64\n",
       "StandingTackle              float64\n",
       "SlidingTackle               float64\n",
       "Release Clause               object\n",
       "dtype: object"
      ]
     },
     "execution_count": 487,
     "metadata": {},
     "output_type": "execute_result"
    }
   ],
   "source": [
    "soccer_dataset.dtypes"
   ]
  },
  {
   "cell_type": "code",
   "execution_count": 488,
   "metadata": {},
   "outputs": [
    {
     "data": {
      "text/plain": [
       "(18207, 53)"
      ]
     },
     "execution_count": 488,
     "metadata": {},
     "output_type": "execute_result"
    }
   ],
   "source": [
    "soccer_dataset.shape"
   ]
  },
  {
   "cell_type": "markdown",
   "metadata": {},
   "source": [
    "Now that we have deleted some of the unnecessary pictures, goalkeeper info, and positioning info our dataset is a little more manageable."
   ]
  },
  {
   "cell_type": "markdown",
   "metadata": {},
   "source": [
    "## Next, we must check for missing values in the dataset."
   ]
  },
  {
   "cell_type": "code",
   "execution_count": 489,
   "metadata": {
    "scrolled": true
   },
   "outputs": [
    {
     "name": "stdout",
     "output_type": "stream",
     "text": [
      "Unnamed: 0 | 0.0 | int64\n",
      "ID | 0.0 | int64\n",
      "Name | 0.0 | object\n",
      "Age | 0.0 | int64\n",
      "Nationality | 0.0 | object\n",
      "Overall | 0.0 | int64\n",
      "Potential | 0.0 | int64\n",
      "Club | 0.01323666721590597 | object\n",
      "Value | 0.0 | object\n",
      "Wage | 0.0 | object\n",
      "Special | 0.0 | int64\n",
      "Preferred Foot | 0.0026363486571099027 | object\n",
      "International Reputation | 0.0026363486571099027 | float64\n",
      "Weak Foot | 0.0026363486571099027 | float64\n",
      "Skill Moves | 0.0026363486571099027 | float64\n",
      "Work Rate | 0.0026363486571099027 | object\n",
      "Position | 0.0032954358213873785 | object\n",
      "Jersey Number | 0.0032954358213873785 | float64\n",
      "Joined | 0.08529686384357664 | object\n",
      "Loaned From | 0.9305761520294392 | object\n",
      "Contract Valid Until | 0.015873015873015872 | object\n",
      "Height | 0.0026363486571099027 | object\n",
      "Weight | 0.0026363486571099027 | object\n",
      "Crossing | 0.0026363486571099027 | float64\n",
      "Finishing | 0.0026363486571099027 | float64\n",
      "HeadingAccuracy | 0.0026363486571099027 | float64\n",
      "ShortPassing | 0.0026363486571099027 | float64\n",
      "Volleys | 0.0026363486571099027 | float64\n",
      "Dribbling | 0.0026363486571099027 | float64\n",
      "Curve | 0.0026363486571099027 | float64\n",
      "FKAccuracy | 0.0026363486571099027 | float64\n",
      "LongPassing | 0.0026363486571099027 | float64\n",
      "BallControl | 0.0026363486571099027 | float64\n",
      "Acceleration | 0.0026363486571099027 | float64\n",
      "SprintSpeed | 0.0026363486571099027 | float64\n",
      "Agility | 0.0026363486571099027 | float64\n",
      "Reactions | 0.0026363486571099027 | float64\n",
      "Balance | 0.0026363486571099027 | float64\n",
      "ShotPower | 0.0026363486571099027 | float64\n",
      "Jumping | 0.0026363486571099027 | float64\n",
      "Stamina | 0.0026363486571099027 | float64\n",
      "Strength | 0.0026363486571099027 | float64\n",
      "LongShots | 0.0026363486571099027 | float64\n",
      "Aggression | 0.0026363486571099027 | float64\n",
      "Interceptions | 0.0026363486571099027 | float64\n",
      "Positioning | 0.0026363486571099027 | float64\n",
      "Vision | 0.0026363486571099027 | float64\n",
      "Penalties | 0.0026363486571099027 | float64\n",
      "Composure | 0.0026363486571099027 | float64\n",
      "Marking | 0.0026363486571099027 | float64\n",
      "StandingTackle | 0.0026363486571099027 | float64\n",
      "SlidingTackle | 0.0026363486571099027 | float64\n",
      "Release Clause | 0.08590102707749767 | object\n"
     ]
    }
   ],
   "source": [
    "n_records = len(soccer_dataset)\n",
    "def missing_values_df(df):\n",
    "    for column in df:\n",
    "        print(\"{} | {} | {}\".format(\n",
    "            column, len(df[df[column].isnull()]) / (1.0*n_records), df[column].dtype\n",
    "        ))\n",
    "        \n",
    "missing_values_df(soccer_dataset)"
   ]
  },
  {
   "cell_type": "markdown",
   "metadata": {},
   "source": [
    "Most of these columns are only missing a small percentage of values.  However, 93% of the players are missing information in the \"Loaned From\" column.  Thus, this column is not providing us much information and can be deleted."
   ]
  },
  {
   "cell_type": "code",
   "execution_count": 490,
   "metadata": {},
   "outputs": [],
   "source": [
    "del soccer_dataset['Loaned From']"
   ]
  },
  {
   "cell_type": "markdown",
   "metadata": {},
   "source": [
    "## Now, we can check for outliers in this dataset."
   ]
  },
  {
   "cell_type": "code",
   "execution_count": 491,
   "metadata": {},
   "outputs": [
    {
     "name": "stdout",
     "output_type": "stream",
     "text": [
      "Unnamed: 0 | 0 | int64\n",
      "ID | 227 | int64\n",
      "Age | 22 | int64\n",
      "Overall | 55 | int64\n",
      "Potential | 66 | int64\n",
      "Special | 17 | int64\n",
      "International Reputation | 0 | float64\n",
      "Weak Foot | 0 | float64\n",
      "Skill Moves | 0 | float64\n",
      "Jersey Number | 0 | float64\n",
      "Crossing | 0 | float64\n",
      "Finishing | 0 | float64\n",
      "HeadingAccuracy | 0 | float64\n",
      "ShortPassing | 0 | float64\n",
      "Volleys | 0 | float64\n",
      "Dribbling | 0 | float64\n",
      "Curve | 0 | float64\n",
      "FKAccuracy | 0 | float64\n",
      "LongPassing | 0 | float64\n",
      "BallControl | 0 | float64\n",
      "Acceleration | 0 | float64\n",
      "SprintSpeed | 0 | float64\n",
      "Agility | 0 | float64\n",
      "Reactions | 0 | float64\n",
      "Balance | 0 | float64\n",
      "ShotPower | 0 | float64\n",
      "Jumping | 0 | float64\n",
      "Stamina | 0 | float64\n",
      "Strength | 0 | float64\n",
      "LongShots | 0 | float64\n",
      "Aggression | 0 | float64\n",
      "Interceptions | 0 | float64\n",
      "Positioning | 0 | float64\n",
      "Vision | 0 | float64\n",
      "Penalties | 0 | float64\n",
      "Composure | 0 | float64\n",
      "Marking | 0 | float64\n",
      "StandingTackle | 0 | float64\n",
      "SlidingTackle | 0 | float64\n"
     ]
    },
    {
     "name": "stderr",
     "output_type": "stream",
     "text": [
      "/anaconda3/lib/python3.7/site-packages/ipykernel_launcher.py:4: RuntimeWarning: invalid value encountered in greater\n",
      "  after removing the cwd from sys.path.\n"
     ]
    }
   ],
   "source": [
    "def outliers_col(df):\n",
    "    for column in df:\n",
    "        if df[column].dtype != np.object:\n",
    "            n_outliers = len(df[(np.abs(stats.zscore(df[column])) > 3)& \\\n",
    "                  (df[column].notnull())\n",
    "                 ])\n",
    "            print(\"{} | {} | {}\".format(\n",
    "                df[column].name,\n",
    "                n_outliers,\n",
    "                df[column].dtype\n",
    "        ))\n",
    "\n",
    "outliers_col(soccer_dataset)"
   ]
  },
  {
   "cell_type": "markdown",
   "metadata": {},
   "source": [
    "This shows us that ID, Age, Overall, Potential, and Special all have outliers.  It is expected that 'ID' would have outliers, as it is just identification numbers, but we should investigate the others."
   ]
  },
  {
   "cell_type": "code",
   "execution_count": 492,
   "metadata": {},
   "outputs": [
    {
     "data": {
      "image/png": "[encoded data removed]",
      "text/plain": [
       "<Figure size 432x288 with 1 Axes>"
      ]
     },
     "metadata": {
      "needs_background": "light"
     },
     "output_type": "display_data"
    }
   ],
   "source": [
    "soccer_dataset.boxplot(column='Age');"
   ]
  },
  {
   "cell_type": "code",
   "execution_count": 493,
   "metadata": {},
   "outputs": [
    {
     "name": "stdout",
     "output_type": "stream",
     "text": [
      "16\n",
      "45\n"
     ]
    }
   ],
   "source": [
    "print(soccer_dataset['Age'].min())\n",
    "print(soccer_dataset['Age'].max())"
   ]
  },
  {
   "cell_type": "markdown",
   "metadata": {},
   "source": [
    "This boxplot shows us there is quite a wide age range in the FIFA players.  The mean is around 25, but there are some outliers around 40 and above.  The youngest player is 16, and the oldest is 45.  These numbers are respectively younger and older than I would expect."
   ]
  },
  {
   "cell_type": "code",
   "execution_count": 494,
   "metadata": {},
   "outputs": [
    {
     "data": {
      "image/png": "[encoded data removed]",
      "text/plain": [
       "<Figure size 432x288 with 1 Axes>"
      ]
     },
     "metadata": {
      "needs_background": "light"
     },
     "output_type": "display_data"
    }
   ],
   "source": [
    "soccer_dataset.boxplot(column='Overall');"
   ]
  },
  {
   "cell_type": "markdown",
   "metadata": {},
   "source": [
    "This shows us that most players have an overall rating around 65, which is lower than I would expect.  Given that these are all professional soccer players, I feel like I would rate almost all of them higher than that.  The FIFA graders must be a little harsher than me."
   ]
  },
  {
   "cell_type": "code",
   "execution_count": 495,
   "metadata": {},
   "outputs": [
    {
     "data": {
      "image/png": "[encoded data removed]",
      "text/plain": [
       "<Figure size 432x288 with 1 Axes>"
      ]
     },
     "metadata": {
      "needs_background": "light"
     },
     "output_type": "display_data"
    }
   ],
   "source": [
    "soccer_dataset.boxplot(column='Potential');"
   ]
  },
  {
   "cell_type": "markdown",
   "metadata": {},
   "source": [
    "This boxplot shows us that most players have a potential rating around 70.  This seems pretty reasonable.  However, this potential rating is also a bit complex and seems a little arbitary.  How do you really give someone a rating on their potential when they are already this far into their soccer career?"
   ]
  },
  {
   "cell_type": "code",
   "execution_count": 496,
   "metadata": {},
   "outputs": [
    {
     "data": {
      "image/png": "[encoded data removed]",
      "text/plain": [
       "<Figure size 432x288 with 1 Axes>"
      ]
     },
     "metadata": {
      "needs_background": "light"
     },
     "output_type": "display_data"
    }
   ],
   "source": [
    "soccer_dataset.boxplot(column='Special');"
   ]
  },
  {
   "cell_type": "markdown",
   "metadata": {},
   "source": [
    "Special appears to be a confusing column with numbers that do not make sense in any context, so this column can also be deleted from the dataset."
   ]
  },
  {
   "cell_type": "code",
   "execution_count": 497,
   "metadata": {},
   "outputs": [],
   "source": [
    "del soccer_dataset['Special']"
   ]
  },
  {
   "cell_type": "markdown",
   "metadata": {},
   "source": [
    "### With a greater understanding of the dataset as a whole, we can look a little more in depth at the specific columns to find some trends and patterns."
   ]
  },
  {
   "cell_type": "code",
   "execution_count": 498,
   "metadata": {},
   "outputs": [
    {
     "data": {
      "image/png": "[encoded data removed]",
      "text/plain": [
       "<Figure size 432x288 with 1 Axes>"
      ]
     },
     "metadata": {
      "needs_background": "light"
     },
     "output_type": "display_data"
    }
   ],
   "source": [
    "soccer_dataset.plot.scatter(x=\"Age\", y=\"Overall\");"
   ]
  },
  {
   "cell_type": "markdown",
   "metadata": {},
   "source": [
    "This graph shows us an expected parabolic relationship between age and overall player rating.  This is exactly what we would expect to see."
   ]
  },
  {
   "cell_type": "code",
   "execution_count": 499,
   "metadata": {},
   "outputs": [
    {
     "data": {
      "image/png": "[encoded data removed]",
      "text/plain": [
       "<Figure size 432x288 with 1 Axes>"
      ]
     },
     "metadata": {
      "needs_background": "light"
     },
     "output_type": "display_data"
    }
   ],
   "source": [
    "soccer_dataset.groupby(\"Preferred Foot\")[\"Overall\"].mean().plot.barh();"
   ]
  },
  {
   "cell_type": "markdown",
   "metadata": {},
   "source": [
    "This graph is not very interesting, but it shows that a player's preferred foot does not affect their overall rating.  I honestly would have expected that right-footed players would have a higher average overall rating.  However, I guess foot preference does not affect overall rating."
   ]
  },
  {
   "cell_type": "code",
   "execution_count": 500,
   "metadata": {},
   "outputs": [
    {
     "data": {
      "text/plain": [
       "<matplotlib.axes._subplots.AxesSubplot at 0x1a39d90588>"
      ]
     },
     "execution_count": 500,
     "metadata": {},
     "output_type": "execute_result"
    },
    {
     "data": {
      "image/png": "[encoded data removed]",
      "text/plain": [
       "<Figure size 432x288 with 1 Axes>"
      ]
     },
     "metadata": {
      "needs_background": "light"
     },
     "output_type": "display_data"
    }
   ],
   "source": [
    "soccer_dataset.plot.scatter(x = 'Age', y = 'Jersey Number')"
   ]
  },
  {
   "cell_type": "code",
   "execution_count": 501,
   "metadata": {},
   "outputs": [
    {
     "data": {
      "text/plain": [
       "<matplotlib.axes._subplots.AxesSubplot at 0x1a384cfda0>"
      ]
     },
     "execution_count": 501,
     "metadata": {},
     "output_type": "execute_result"
    },
    {
     "data": {
      "image/png": "[encoded data removed]",
      "text/plain": [
       "<Figure size 432x288 with 1 Axes>"
      ]
     },
     "metadata": {
      "needs_background": "light"
     },
     "output_type": "display_data"
    }
   ],
   "source": [
    "soccer_dataset.plot.scatter(x = 'Jersey Number', y = 'Overall')"
   ]
  },
  {
   "cell_type": "markdown",
   "metadata": {},
   "source": [
    "Logically, these two graphs show us that jersey number has no effect on age or overall rating.  This is to be expected, but it would be quite interesting if it did have an effect on either of these things."
   ]
  },
  {
   "cell_type": "code",
   "execution_count": 502,
   "metadata": {
    "scrolled": true
   },
   "outputs": [
    {
     "data": {
      "text/html": [
       "<div>\n",
       "<style scoped>\n",
       "    .dataframe tbody tr th:only-of-type {\n",
       "        vertical-align: middle;\n",
       "    }\n",
       "\n",
       "    .dataframe tbody tr th {\n",
       "        vertical-align: top;\n",
       "    }\n",
       "\n",
       "    .dataframe thead th {\n",
       "        text-align: right;\n",
       "    }\n",
       "</style>\n",
       "<table border=\"1\" class=\"dataframe\">\n",
       "  <thead>\n",
       "    <tr style=\"text-align: right;\">\n",
       "      <th></th>\n",
       "      <th>Name</th>\n",
       "      <th>Wage</th>\n",
       "    </tr>\n",
       "  </thead>\n",
       "  <tbody>\n",
       "    <tr>\n",
       "      <th>0</th>\n",
       "      <td>L. Messi</td>\n",
       "      <td>€565K</td>\n",
       "    </tr>\n",
       "    <tr>\n",
       "      <th>1</th>\n",
       "      <td>Cristiano Ronaldo</td>\n",
       "      <td>€405K</td>\n",
       "    </tr>\n",
       "    <tr>\n",
       "      <th>2</th>\n",
       "      <td>Neymar Jr</td>\n",
       "      <td>€290K</td>\n",
       "    </tr>\n",
       "    <tr>\n",
       "      <th>3</th>\n",
       "      <td>De Gea</td>\n",
       "      <td>€260K</td>\n",
       "    </tr>\n",
       "    <tr>\n",
       "      <th>4</th>\n",
       "      <td>K. De Bruyne</td>\n",
       "      <td>€355K</td>\n",
       "    </tr>\n",
       "    <tr>\n",
       "      <th>5</th>\n",
       "      <td>E. Hazard</td>\n",
       "      <td>€340K</td>\n",
       "    </tr>\n",
       "    <tr>\n",
       "      <th>6</th>\n",
       "      <td>L. Modrić</td>\n",
       "      <td>€420K</td>\n",
       "    </tr>\n",
       "    <tr>\n",
       "      <th>7</th>\n",
       "      <td>L. Suárez</td>\n",
       "      <td>€455K</td>\n",
       "    </tr>\n",
       "    <tr>\n",
       "      <th>8</th>\n",
       "      <td>Sergio Ramos</td>\n",
       "      <td>€380K</td>\n",
       "    </tr>\n",
       "    <tr>\n",
       "      <th>9</th>\n",
       "      <td>J. Oblak</td>\n",
       "      <td>€94K</td>\n",
       "    </tr>\n",
       "    <tr>\n",
       "      <th>10</th>\n",
       "      <td>R. Lewandowski</td>\n",
       "      <td>€205K</td>\n",
       "    </tr>\n",
       "    <tr>\n",
       "      <th>11</th>\n",
       "      <td>T. Kroos</td>\n",
       "      <td>€355K</td>\n",
       "    </tr>\n",
       "    <tr>\n",
       "      <th>12</th>\n",
       "      <td>D. Godín</td>\n",
       "      <td>€125K</td>\n",
       "    </tr>\n",
       "    <tr>\n",
       "      <th>13</th>\n",
       "      <td>David Silva</td>\n",
       "      <td>€285K</td>\n",
       "    </tr>\n",
       "    <tr>\n",
       "      <th>14</th>\n",
       "      <td>N. Kanté</td>\n",
       "      <td>€225K</td>\n",
       "    </tr>\n",
       "    <tr>\n",
       "      <th>15</th>\n",
       "      <td>P. Dybala</td>\n",
       "      <td>€205K</td>\n",
       "    </tr>\n",
       "    <tr>\n",
       "      <th>16</th>\n",
       "      <td>H. Kane</td>\n",
       "      <td>€205K</td>\n",
       "    </tr>\n",
       "    <tr>\n",
       "      <th>17</th>\n",
       "      <td>A. Griezmann</td>\n",
       "      <td>€145K</td>\n",
       "    </tr>\n",
       "    <tr>\n",
       "      <th>18</th>\n",
       "      <td>M. ter Stegen</td>\n",
       "      <td>€240K</td>\n",
       "    </tr>\n",
       "    <tr>\n",
       "      <th>19</th>\n",
       "      <td>T. Courtois</td>\n",
       "      <td>€240K</td>\n",
       "    </tr>\n",
       "    <tr>\n",
       "      <th>20</th>\n",
       "      <td>Sergio Busquets</td>\n",
       "      <td>€315K</td>\n",
       "    </tr>\n",
       "    <tr>\n",
       "      <th>21</th>\n",
       "      <td>E. Cavani</td>\n",
       "      <td>€200K</td>\n",
       "    </tr>\n",
       "    <tr>\n",
       "      <th>22</th>\n",
       "      <td>M. Neuer</td>\n",
       "      <td>€130K</td>\n",
       "    </tr>\n",
       "    <tr>\n",
       "      <th>23</th>\n",
       "      <td>S. Agüero</td>\n",
       "      <td>€300K</td>\n",
       "    </tr>\n",
       "    <tr>\n",
       "      <th>24</th>\n",
       "      <td>G. Chiellini</td>\n",
       "      <td>€215K</td>\n",
       "    </tr>\n",
       "    <tr>\n",
       "      <th>25</th>\n",
       "      <td>K. Mbappé</td>\n",
       "      <td>€100K</td>\n",
       "    </tr>\n",
       "    <tr>\n",
       "      <th>26</th>\n",
       "      <td>M. Salah</td>\n",
       "      <td>€255K</td>\n",
       "    </tr>\n",
       "    <tr>\n",
       "      <th>27</th>\n",
       "      <td>Casemiro</td>\n",
       "      <td>€285K</td>\n",
       "    </tr>\n",
       "    <tr>\n",
       "      <th>28</th>\n",
       "      <td>J. Rodríguez</td>\n",
       "      <td>€315K</td>\n",
       "    </tr>\n",
       "    <tr>\n",
       "      <th>29</th>\n",
       "      <td>L. Insigne</td>\n",
       "      <td>€165K</td>\n",
       "    </tr>\n",
       "    <tr>\n",
       "      <th>...</th>\n",
       "      <td>...</td>\n",
       "      <td>...</td>\n",
       "    </tr>\n",
       "    <tr>\n",
       "      <th>18177</th>\n",
       "      <td>R. Roache</td>\n",
       "      <td>€1K</td>\n",
       "    </tr>\n",
       "    <tr>\n",
       "      <th>18178</th>\n",
       "      <td>L. Wahlstedt</td>\n",
       "      <td>€1K</td>\n",
       "    </tr>\n",
       "    <tr>\n",
       "      <th>18179</th>\n",
       "      <td>J. Williams</td>\n",
       "      <td>€1K</td>\n",
       "    </tr>\n",
       "    <tr>\n",
       "      <th>18180</th>\n",
       "      <td>M. Hurst</td>\n",
       "      <td>€1K</td>\n",
       "    </tr>\n",
       "    <tr>\n",
       "      <th>18181</th>\n",
       "      <td>C. Maher</td>\n",
       "      <td>€1K</td>\n",
       "    </tr>\n",
       "    <tr>\n",
       "      <th>18182</th>\n",
       "      <td>Y. Góez</td>\n",
       "      <td>€1K</td>\n",
       "    </tr>\n",
       "    <tr>\n",
       "      <th>18183</th>\n",
       "      <td>K. Pilkington</td>\n",
       "      <td>€1K</td>\n",
       "    </tr>\n",
       "    <tr>\n",
       "      <th>18184</th>\n",
       "      <td>D. Horton</td>\n",
       "      <td>€1K</td>\n",
       "    </tr>\n",
       "    <tr>\n",
       "      <th>18185</th>\n",
       "      <td>E. Tweed</td>\n",
       "      <td>€1K</td>\n",
       "    </tr>\n",
       "    <tr>\n",
       "      <th>18186</th>\n",
       "      <td>Zhang Yufeng</td>\n",
       "      <td>€1K</td>\n",
       "    </tr>\n",
       "    <tr>\n",
       "      <th>18187</th>\n",
       "      <td>C. Ehlich</td>\n",
       "      <td>€1K</td>\n",
       "    </tr>\n",
       "    <tr>\n",
       "      <th>18188</th>\n",
       "      <td>L. Collins</td>\n",
       "      <td>€1K</td>\n",
       "    </tr>\n",
       "    <tr>\n",
       "      <th>18189</th>\n",
       "      <td>A. Kaltner</td>\n",
       "      <td>€1K</td>\n",
       "    </tr>\n",
       "    <tr>\n",
       "      <th>18190</th>\n",
       "      <td>L. Watkins</td>\n",
       "      <td>€1K</td>\n",
       "    </tr>\n",
       "    <tr>\n",
       "      <th>18191</th>\n",
       "      <td>J. Norville-Williams</td>\n",
       "      <td>€1K</td>\n",
       "    </tr>\n",
       "    <tr>\n",
       "      <th>18192</th>\n",
       "      <td>S. Squire</td>\n",
       "      <td>€1K</td>\n",
       "    </tr>\n",
       "    <tr>\n",
       "      <th>18193</th>\n",
       "      <td>N. Fuentes</td>\n",
       "      <td>€1K</td>\n",
       "    </tr>\n",
       "    <tr>\n",
       "      <th>18194</th>\n",
       "      <td>J. Milli</td>\n",
       "      <td>€1K</td>\n",
       "    </tr>\n",
       "    <tr>\n",
       "      <th>18195</th>\n",
       "      <td>S. Griffin</td>\n",
       "      <td>€1K</td>\n",
       "    </tr>\n",
       "    <tr>\n",
       "      <th>18196</th>\n",
       "      <td>K. Fujikawa</td>\n",
       "      <td>€1K</td>\n",
       "    </tr>\n",
       "    <tr>\n",
       "      <th>18197</th>\n",
       "      <td>D. Holland</td>\n",
       "      <td>€1K</td>\n",
       "    </tr>\n",
       "    <tr>\n",
       "      <th>18198</th>\n",
       "      <td>J. Livesey</td>\n",
       "      <td>€1K</td>\n",
       "    </tr>\n",
       "    <tr>\n",
       "      <th>18199</th>\n",
       "      <td>M. Baldisimo</td>\n",
       "      <td>€1K</td>\n",
       "    </tr>\n",
       "    <tr>\n",
       "      <th>18200</th>\n",
       "      <td>J. Young</td>\n",
       "      <td>€1K</td>\n",
       "    </tr>\n",
       "    <tr>\n",
       "      <th>18201</th>\n",
       "      <td>D. Walsh</td>\n",
       "      <td>€1K</td>\n",
       "    </tr>\n",
       "    <tr>\n",
       "      <th>18202</th>\n",
       "      <td>J. Lundstram</td>\n",
       "      <td>€1K</td>\n",
       "    </tr>\n",
       "    <tr>\n",
       "      <th>18203</th>\n",
       "      <td>N. Christoffersson</td>\n",
       "      <td>€1K</td>\n",
       "    </tr>\n",
       "    <tr>\n",
       "      <th>18204</th>\n",
       "      <td>B. Worman</td>\n",
       "      <td>€1K</td>\n",
       "    </tr>\n",
       "    <tr>\n",
       "      <th>18205</th>\n",
       "      <td>D. Walker-Rice</td>\n",
       "      <td>€1K</td>\n",
       "    </tr>\n",
       "    <tr>\n",
       "      <th>18206</th>\n",
       "      <td>G. Nugent</td>\n",
       "      <td>€1K</td>\n",
       "    </tr>\n",
       "  </tbody>\n",
       "</table>\n",
       "<p>18207 rows × 2 columns</p>\n",
       "</div>"
      ],
      "text/plain": [
       "                       Name   Wage\n",
       "0                  L. Messi  €565K\n",
       "1         Cristiano Ronaldo  €405K\n",
       "2                 Neymar Jr  €290K\n",
       "3                    De Gea  €260K\n",
       "4              K. De Bruyne  €355K\n",
       "5                 E. Hazard  €340K\n",
       "6                 L. Modrić  €420K\n",
       "7                 L. Suárez  €455K\n",
       "8              Sergio Ramos  €380K\n",
       "9                  J. Oblak   €94K\n",
       "10           R. Lewandowski  €205K\n",
       "11                 T. Kroos  €355K\n",
       "12                 D. Godín  €125K\n",
       "13              David Silva  €285K\n",
       "14                 N. Kanté  €225K\n",
       "15                P. Dybala  €205K\n",
       "16                  H. Kane  €205K\n",
       "17             A. Griezmann  €145K\n",
       "18            M. ter Stegen  €240K\n",
       "19              T. Courtois  €240K\n",
       "20          Sergio Busquets  €315K\n",
       "21                E. Cavani  €200K\n",
       "22                 M. Neuer  €130K\n",
       "23                S. Agüero  €300K\n",
       "24             G. Chiellini  €215K\n",
       "25                K. Mbappé  €100K\n",
       "26                 M. Salah  €255K\n",
       "27                 Casemiro  €285K\n",
       "28             J. Rodríguez  €315K\n",
       "29               L. Insigne  €165K\n",
       "...                     ...    ...\n",
       "18177             R. Roache    €1K\n",
       "18178          L. Wahlstedt    €1K\n",
       "18179           J. Williams    €1K\n",
       "18180              M. Hurst    €1K\n",
       "18181              C. Maher    €1K\n",
       "18182               Y. Góez    €1K\n",
       "18183         K. Pilkington    €1K\n",
       "18184             D. Horton    €1K\n",
       "18185              E. Tweed    €1K\n",
       "18186          Zhang Yufeng    €1K\n",
       "18187             C. Ehlich    €1K\n",
       "18188            L. Collins    €1K\n",
       "18189            A. Kaltner    €1K\n",
       "18190            L. Watkins    €1K\n",
       "18191  J. Norville-Williams    €1K\n",
       "18192             S. Squire    €1K\n",
       "18193            N. Fuentes    €1K\n",
       "18194              J. Milli    €1K\n",
       "18195            S. Griffin    €1K\n",
       "18196           K. Fujikawa    €1K\n",
       "18197            D. Holland    €1K\n",
       "18198            J. Livesey    €1K\n",
       "18199          M. Baldisimo    €1K\n",
       "18200              J. Young    €1K\n",
       "18201              D. Walsh    €1K\n",
       "18202          J. Lundstram    €1K\n",
       "18203    N. Christoffersson    €1K\n",
       "18204             B. Worman    €1K\n",
       "18205        D. Walker-Rice    €1K\n",
       "18206             G. Nugent    €1K\n",
       "\n",
       "[18207 rows x 2 columns]"
      ]
     },
     "execution_count": 502,
     "metadata": {},
     "output_type": "execute_result"
    }
   ],
   "source": [
    "soccer_dataset[[\"Name\",\"Wage\"]]"
   ]
  },
  {
   "cell_type": "code",
   "execution_count": 503,
   "metadata": {},
   "outputs": [],
   "source": [
    "soccer_dataset = soccer_dataset[soccer_dataset['Wage'].str[1:-1]!='']"
   ]
  },
  {
   "cell_type": "code",
   "execution_count": 504,
   "metadata": {
    "scrolled": false
   },
   "outputs": [],
   "source": [
    "soccer_dataset['Wage'] = soccer_dataset[\"Wage\"].str[1:-1].astype(int)"
   ]
  },
  {
   "cell_type": "code",
   "execution_count": 505,
   "metadata": {},
   "outputs": [],
   "source": [
    "soccer_dataset['Wage'] = soccer_dataset[\"Wage\"]*1000"
   ]
  },
  {
   "cell_type": "markdown",
   "metadata": {},
   "source": [
    "Due to the fact that the players' wages were all entered as €xK, we had to splice each entry to remove the € sign and the K and then convert each entry into an integer."
   ]
  },
  {
   "cell_type": "code",
   "execution_count": 506,
   "metadata": {},
   "outputs": [
    {
     "data": {
      "image/png": "[encoded data removed]",
      "text/plain": [
       "<Figure size 432x288 with 1 Axes>"
      ]
     },
     "metadata": {
      "needs_background": "light"
     },
     "output_type": "display_data"
    }
   ],
   "source": [
    "soccer_dataset.plot.scatter(x=\"Overall\", y=\"Wage\");"
   ]
  },
  {
   "cell_type": "markdown",
   "metadata": {},
   "source": [
    "This scatterplot illustrates what we would expect to find.  As a player's overall rating increases, their wage increases.  However, it is interesting to note that this occurs at an exponential rate, not just a linear rate.  Therefore, once you become ranked as a really, really outstanding player, your salary rockets."
   ]
  },
  {
   "cell_type": "code",
   "execution_count": 507,
   "metadata": {},
   "outputs": [],
   "source": [
    "## how are the fifa ratings calculated??? is overall dependent on these things??"
   ]
  },
  {
   "cell_type": "markdown",
   "metadata": {},
   "source": [
    "## Let's look at some of the data separated by countries"
   ]
  },
  {
   "cell_type": "markdown",
   "metadata": {},
   "source": [
    "### Let's see what country has players with the most potential to improve (according to the FIFA ratings)"
   ]
  },
  {
   "cell_type": "code",
   "execution_count": 508,
   "metadata": {},
   "outputs": [
    {
     "data": {
      "image/png": "[encoded data removed]",
      "text/plain": [
       "<Figure size 432x288 with 1 Axes>"
      ]
     },
     "metadata": {
      "needs_background": "light"
     },
     "output_type": "display_data"
    }
   ],
   "source": [
    "soccer_dataset.groupby(\"Nationality\")['Potential'].mean().plot.barh();"
   ]
  },
  {
   "cell_type": "markdown",
   "metadata": {},
   "source": [
    "#### Clearly this bar graph is not helpful at all.  There are a few too many countries in this dataset to look at them all.  Thus, let's only look at the top 20 countries in the dataset with the most players in the league."
   ]
  },
  {
   "cell_type": "code",
   "execution_count": 509,
   "metadata": {},
   "outputs": [],
   "source": [
    "s1 = soccer_dataset.groupby(\"Nationality\")['Potential'].mean()"
   ]
  },
  {
   "cell_type": "code",
   "execution_count": 510,
   "metadata": {},
   "outputs": [],
   "source": [
    "s2 = soccer_dataset.groupby('Nationality').size()"
   ]
  },
  {
   "cell_type": "code",
   "execution_count": 511,
   "metadata": {},
   "outputs": [],
   "source": [
    "potential_dataframe = pd.DataFrame([s1, s2]).T"
   ]
  },
  {
   "cell_type": "code",
   "execution_count": 512,
   "metadata": {},
   "outputs": [],
   "source": [
    "potential_dataframe = pd.DataFrame(new_dataframe).sort_values(ascending=False, by=\"Unnamed 0\")[:20].reset_index()"
   ]
  },
  {
   "cell_type": "code",
   "execution_count": 513,
   "metadata": {},
   "outputs": [
    {
     "data": {
      "image/png": "[encoded data removed]",
      "text/plain": [
       "<Figure size 432x288 with 1 Axes>"
      ]
     },
     "metadata": {
      "needs_background": "light"
     },
     "output_type": "display_data"
    }
   ],
   "source": [
    "potential_dataframe.groupby(\"Nationality\")['Potential'].mean().plot.barh()\n",
    "plt.xlabel(\"Average Player Potential Rating\");"
   ]
  },
  {
   "cell_type": "markdown",
   "metadata": {},
   "source": [
    "This bar graph shows us that Spain is the country with players with the greatest potential on average, and China PR is the country with players with the least potential on average."
   ]
  },
  {
   "cell_type": "code",
   "execution_count": 514,
   "metadata": {},
   "outputs": [],
   "source": [
    "overall_dataframe = pd.DataFrame([soccer_dataset.groupby(\"Nationality\")['Overall'].mean(), \n",
    "                              soccer_dataset.groupby('Nationality').size()]).T.sort_values(\n",
    "    ascending=False, by=\"Unnamed 0\")[:20].reset_index()"
   ]
  },
  {
   "cell_type": "code",
   "execution_count": 515,
   "metadata": {},
   "outputs": [
    {
     "data": {
      "image/png": "[encoded data removed]",
      "text/plain": [
       "<Figure size 432x288 with 1 Axes>"
      ]
     },
     "metadata": {
      "needs_background": "light"
     },
     "output_type": "display_data"
    }
   ],
   "source": [
    "overall_dataframe.groupby(\"Nationality\")['Overall'].mean().plot.barh()\n",
    "plt.xlabel(\"Average Player Overall Rating\");"
   ]
  },
  {
   "cell_type": "markdown",
   "metadata": {},
   "source": [
    "This bar graph illustrates that Brazil is the country with the highest overall player ratings on average.  This seems logical, especially due to the fact that Brazil was high on the potential chart too.  The country with the lowest overall player ratings on average is China PR.  This is also expected, as this country has the lowest potential rating on average."
   ]
  },
  {
   "cell_type": "code",
   "execution_count": 516,
   "metadata": {},
   "outputs": [],
   "source": [
    "overall_dataframe = pd.DataFrame([soccer_dataset.groupby(\"Nationality\")['Wage'].mean(), \n",
    "                              soccer_dataset.groupby('Nationality').size()]).T.sort_values(\n",
    "    ascending=False, by=\"Unnamed 0\")[:20].reset_index()"
   ]
  },
  {
   "cell_type": "code",
   "execution_count": 517,
   "metadata": {},
   "outputs": [
    {
     "data": {
      "image/png": "[encoded data removed]",
      "text/plain": [
       "<Figure size 432x288 with 1 Axes>"
      ]
     },
     "metadata": {
      "needs_background": "light"
     },
     "output_type": "display_data"
    }
   ],
   "source": [
    "overall_dataframe.groupby(\"Nationality\")['Wage'].mean().plot.barh()\n",
    "plt.xlabel(\"Average Player Wage\");"
   ]
  },
  {
   "cell_type": "markdown",
   "metadata": {},
   "source": [
    "This bar graph illustrates that on average players from Spain and Brazil have significantly higher wages than players from any other country in the world.  This is crazy due to the fact that the two graphs above show that these players have almost equally high overall and potential ratings as the players from all the other top countries. These players must play in higher playing leagues or gain larger reputations that would increase their salaries so drastically compared to everyone else."
   ]
  },
  {
   "cell_type": "code",
   "execution_count": 518,
   "metadata": {},
   "outputs": [],
   "source": [
    "overall_dataframe = pd.DataFrame([soccer_dataset.groupby(\"Nationality\")['International Reputation'].mean(), \n",
    "                              soccer_dataset.groupby('Nationality').size()]).T.sort_values(\n",
    "    ascending=False, by=\"Unnamed 0\")[:20].reset_index()"
   ]
  },
  {
   "cell_type": "code",
   "execution_count": 519,
   "metadata": {},
   "outputs": [
    {
     "data": {
      "image/png": "[encoded data removed]",
      "text/plain": [
       "<Figure size 432x288 with 1 Axes>"
      ]
     },
     "metadata": {
      "needs_background": "light"
     },
     "output_type": "display_data"
    }
   ],
   "source": [
    "overall_dataframe.groupby(\"Nationality\")['International Reputation'].mean().plot.barh()\n",
    "plt.xlabel(\"Average Player International Reputation\");"
   ]
  },
  {
   "cell_type": "markdown",
   "metadata": {},
   "source": [
    "But this bar chart disagrees with one hypothesis from above.  Players from all of these top countries have pretty respectable international ratings.  Brazil (one of the countries with players with the highest wages) does not even have one of the top three highest average player international reputation scores.  Thus, these wage gaps may potentially result from league selection and maybe even a person's background or manager (their ability to market themselves)."
   ]
  },
  {
   "cell_type": "markdown",
   "metadata": {},
   "source": [
    "## Now let's compare player \"Value\" and \"Wage\"\n",
    "### We would expect these to have a pretty positive, linear relationship."
   ]
  },
  {
   "cell_type": "code",
   "execution_count": 520,
   "metadata": {},
   "outputs": [],
   "source": [
    "soccer_dataset = soccer_dataset[soccer_dataset['Value'].str[1:-1]!='']"
   ]
  },
  {
   "cell_type": "code",
   "execution_count": 521,
   "metadata": {},
   "outputs": [],
   "source": [
    "soccer_dataset['Value'] = soccer_dataset['Value'].str[1:-1].astype(float)"
   ]
  },
  {
   "cell_type": "code",
   "execution_count": 522,
   "metadata": {},
   "outputs": [],
   "source": [
    "soccer_dataset['Value'] = soccer_dataset['Value']*1000000"
   ]
  },
  {
   "cell_type": "markdown",
   "metadata": {},
   "source": [
    "We first needed to again convert the value column to integers without the € sign and the M before we could make any comparisons."
   ]
  },
  {
   "cell_type": "code",
   "execution_count": 523,
   "metadata": {
    "scrolled": true
   },
   "outputs": [
    {
     "data": {
      "text/html": [
       "<div>\n",
       "<style scoped>\n",
       "    .dataframe tbody tr th:only-of-type {\n",
       "        vertical-align: middle;\n",
       "    }\n",
       "\n",
       "    .dataframe tbody tr th {\n",
       "        vertical-align: top;\n",
       "    }\n",
       "\n",
       "    .dataframe thead th {\n",
       "        text-align: right;\n",
       "    }\n",
       "</style>\n",
       "<table border=\"1\" class=\"dataframe\">\n",
       "  <thead>\n",
       "    <tr style=\"text-align: right;\">\n",
       "      <th></th>\n",
       "      <th>Name</th>\n",
       "      <th>Value</th>\n",
       "      <th>Wage</th>\n",
       "    </tr>\n",
       "  </thead>\n",
       "  <tbody>\n",
       "    <tr>\n",
       "      <th>0</th>\n",
       "      <td>L. Messi</td>\n",
       "      <td>110500000.0</td>\n",
       "      <td>565000</td>\n",
       "    </tr>\n",
       "    <tr>\n",
       "      <th>1</th>\n",
       "      <td>Cristiano Ronaldo</td>\n",
       "      <td>77000000.0</td>\n",
       "      <td>405000</td>\n",
       "    </tr>\n",
       "    <tr>\n",
       "      <th>2</th>\n",
       "      <td>Neymar Jr</td>\n",
       "      <td>118500000.0</td>\n",
       "      <td>290000</td>\n",
       "    </tr>\n",
       "    <tr>\n",
       "      <th>3</th>\n",
       "      <td>De Gea</td>\n",
       "      <td>72000000.0</td>\n",
       "      <td>260000</td>\n",
       "    </tr>\n",
       "    <tr>\n",
       "      <th>4</th>\n",
       "      <td>K. De Bruyne</td>\n",
       "      <td>102000000.0</td>\n",
       "      <td>355000</td>\n",
       "    </tr>\n",
       "    <tr>\n",
       "      <th>5</th>\n",
       "      <td>E. Hazard</td>\n",
       "      <td>93000000.0</td>\n",
       "      <td>340000</td>\n",
       "    </tr>\n",
       "    <tr>\n",
       "      <th>6</th>\n",
       "      <td>L. Modrić</td>\n",
       "      <td>67000000.0</td>\n",
       "      <td>420000</td>\n",
       "    </tr>\n",
       "    <tr>\n",
       "      <th>7</th>\n",
       "      <td>L. Suárez</td>\n",
       "      <td>80000000.0</td>\n",
       "      <td>455000</td>\n",
       "    </tr>\n",
       "    <tr>\n",
       "      <th>8</th>\n",
       "      <td>Sergio Ramos</td>\n",
       "      <td>51000000.0</td>\n",
       "      <td>380000</td>\n",
       "    </tr>\n",
       "    <tr>\n",
       "      <th>9</th>\n",
       "      <td>J. Oblak</td>\n",
       "      <td>68000000.0</td>\n",
       "      <td>94000</td>\n",
       "    </tr>\n",
       "    <tr>\n",
       "      <th>10</th>\n",
       "      <td>R. Lewandowski</td>\n",
       "      <td>77000000.0</td>\n",
       "      <td>205000</td>\n",
       "    </tr>\n",
       "    <tr>\n",
       "      <th>11</th>\n",
       "      <td>T. Kroos</td>\n",
       "      <td>76500000.0</td>\n",
       "      <td>355000</td>\n",
       "    </tr>\n",
       "    <tr>\n",
       "      <th>12</th>\n",
       "      <td>D. Godín</td>\n",
       "      <td>44000000.0</td>\n",
       "      <td>125000</td>\n",
       "    </tr>\n",
       "    <tr>\n",
       "      <th>13</th>\n",
       "      <td>David Silva</td>\n",
       "      <td>60000000.0</td>\n",
       "      <td>285000</td>\n",
       "    </tr>\n",
       "    <tr>\n",
       "      <th>14</th>\n",
       "      <td>N. Kanté</td>\n",
       "      <td>63000000.0</td>\n",
       "      <td>225000</td>\n",
       "    </tr>\n",
       "    <tr>\n",
       "      <th>15</th>\n",
       "      <td>P. Dybala</td>\n",
       "      <td>89000000.0</td>\n",
       "      <td>205000</td>\n",
       "    </tr>\n",
       "    <tr>\n",
       "      <th>16</th>\n",
       "      <td>H. Kane</td>\n",
       "      <td>83500000.0</td>\n",
       "      <td>205000</td>\n",
       "    </tr>\n",
       "    <tr>\n",
       "      <th>17</th>\n",
       "      <td>A. Griezmann</td>\n",
       "      <td>78000000.0</td>\n",
       "      <td>145000</td>\n",
       "    </tr>\n",
       "    <tr>\n",
       "      <th>18</th>\n",
       "      <td>M. ter Stegen</td>\n",
       "      <td>58000000.0</td>\n",
       "      <td>240000</td>\n",
       "    </tr>\n",
       "    <tr>\n",
       "      <th>19</th>\n",
       "      <td>T. Courtois</td>\n",
       "      <td>53500000.0</td>\n",
       "      <td>240000</td>\n",
       "    </tr>\n",
       "    <tr>\n",
       "      <th>20</th>\n",
       "      <td>Sergio Busquets</td>\n",
       "      <td>51500000.0</td>\n",
       "      <td>315000</td>\n",
       "    </tr>\n",
       "    <tr>\n",
       "      <th>21</th>\n",
       "      <td>E. Cavani</td>\n",
       "      <td>60000000.0</td>\n",
       "      <td>200000</td>\n",
       "    </tr>\n",
       "    <tr>\n",
       "      <th>22</th>\n",
       "      <td>M. Neuer</td>\n",
       "      <td>38000000.0</td>\n",
       "      <td>130000</td>\n",
       "    </tr>\n",
       "    <tr>\n",
       "      <th>23</th>\n",
       "      <td>S. Agüero</td>\n",
       "      <td>64500000.0</td>\n",
       "      <td>300000</td>\n",
       "    </tr>\n",
       "    <tr>\n",
       "      <th>24</th>\n",
       "      <td>G. Chiellini</td>\n",
       "      <td>27000000.0</td>\n",
       "      <td>215000</td>\n",
       "    </tr>\n",
       "    <tr>\n",
       "      <th>25</th>\n",
       "      <td>K. Mbappé</td>\n",
       "      <td>81000000.0</td>\n",
       "      <td>100000</td>\n",
       "    </tr>\n",
       "    <tr>\n",
       "      <th>26</th>\n",
       "      <td>M. Salah</td>\n",
       "      <td>69500000.0</td>\n",
       "      <td>255000</td>\n",
       "    </tr>\n",
       "    <tr>\n",
       "      <th>27</th>\n",
       "      <td>Casemiro</td>\n",
       "      <td>59500000.0</td>\n",
       "      <td>285000</td>\n",
       "    </tr>\n",
       "    <tr>\n",
       "      <th>28</th>\n",
       "      <td>J. Rodríguez</td>\n",
       "      <td>69500000.0</td>\n",
       "      <td>315000</td>\n",
       "    </tr>\n",
       "    <tr>\n",
       "      <th>29</th>\n",
       "      <td>L. Insigne</td>\n",
       "      <td>62000000.0</td>\n",
       "      <td>165000</td>\n",
       "    </tr>\n",
       "    <tr>\n",
       "      <th>...</th>\n",
       "      <td>...</td>\n",
       "      <td>...</td>\n",
       "      <td>...</td>\n",
       "    </tr>\n",
       "    <tr>\n",
       "      <th>18176</th>\n",
       "      <td>T. Hillman</td>\n",
       "      <td>40000000.0</td>\n",
       "      <td>1000</td>\n",
       "    </tr>\n",
       "    <tr>\n",
       "      <th>18177</th>\n",
       "      <td>R. Roache</td>\n",
       "      <td>70000000.0</td>\n",
       "      <td>1000</td>\n",
       "    </tr>\n",
       "    <tr>\n",
       "      <th>18178</th>\n",
       "      <td>L. Wahlstedt</td>\n",
       "      <td>50000000.0</td>\n",
       "      <td>1000</td>\n",
       "    </tr>\n",
       "    <tr>\n",
       "      <th>18179</th>\n",
       "      <td>J. Williams</td>\n",
       "      <td>50000000.0</td>\n",
       "      <td>1000</td>\n",
       "    </tr>\n",
       "    <tr>\n",
       "      <th>18180</th>\n",
       "      <td>M. Hurst</td>\n",
       "      <td>40000000.0</td>\n",
       "      <td>1000</td>\n",
       "    </tr>\n",
       "    <tr>\n",
       "      <th>18181</th>\n",
       "      <td>C. Maher</td>\n",
       "      <td>50000000.0</td>\n",
       "      <td>1000</td>\n",
       "    </tr>\n",
       "    <tr>\n",
       "      <th>18182</th>\n",
       "      <td>Y. Góez</td>\n",
       "      <td>50000000.0</td>\n",
       "      <td>1000</td>\n",
       "    </tr>\n",
       "    <tr>\n",
       "      <th>18184</th>\n",
       "      <td>D. Horton</td>\n",
       "      <td>40000000.0</td>\n",
       "      <td>1000</td>\n",
       "    </tr>\n",
       "    <tr>\n",
       "      <th>18185</th>\n",
       "      <td>E. Tweed</td>\n",
       "      <td>50000000.0</td>\n",
       "      <td>1000</td>\n",
       "    </tr>\n",
       "    <tr>\n",
       "      <th>18186</th>\n",
       "      <td>Zhang Yufeng</td>\n",
       "      <td>60000000.0</td>\n",
       "      <td>1000</td>\n",
       "    </tr>\n",
       "    <tr>\n",
       "      <th>18187</th>\n",
       "      <td>C. Ehlich</td>\n",
       "      <td>40000000.0</td>\n",
       "      <td>1000</td>\n",
       "    </tr>\n",
       "    <tr>\n",
       "      <th>18188</th>\n",
       "      <td>L. Collins</td>\n",
       "      <td>60000000.0</td>\n",
       "      <td>1000</td>\n",
       "    </tr>\n",
       "    <tr>\n",
       "      <th>18189</th>\n",
       "      <td>A. Kaltner</td>\n",
       "      <td>60000000.0</td>\n",
       "      <td>1000</td>\n",
       "    </tr>\n",
       "    <tr>\n",
       "      <th>18190</th>\n",
       "      <td>L. Watkins</td>\n",
       "      <td>60000000.0</td>\n",
       "      <td>1000</td>\n",
       "    </tr>\n",
       "    <tr>\n",
       "      <th>18191</th>\n",
       "      <td>J. Norville-Williams</td>\n",
       "      <td>50000000.0</td>\n",
       "      <td>1000</td>\n",
       "    </tr>\n",
       "    <tr>\n",
       "      <th>18192</th>\n",
       "      <td>S. Squire</td>\n",
       "      <td>50000000.0</td>\n",
       "      <td>1000</td>\n",
       "    </tr>\n",
       "    <tr>\n",
       "      <th>18193</th>\n",
       "      <td>N. Fuentes</td>\n",
       "      <td>50000000.0</td>\n",
       "      <td>1000</td>\n",
       "    </tr>\n",
       "    <tr>\n",
       "      <th>18194</th>\n",
       "      <td>J. Milli</td>\n",
       "      <td>50000000.0</td>\n",
       "      <td>1000</td>\n",
       "    </tr>\n",
       "    <tr>\n",
       "      <th>18195</th>\n",
       "      <td>S. Griffin</td>\n",
       "      <td>60000000.0</td>\n",
       "      <td>1000</td>\n",
       "    </tr>\n",
       "    <tr>\n",
       "      <th>18196</th>\n",
       "      <td>K. Fujikawa</td>\n",
       "      <td>60000000.0</td>\n",
       "      <td>1000</td>\n",
       "    </tr>\n",
       "    <tr>\n",
       "      <th>18197</th>\n",
       "      <td>D. Holland</td>\n",
       "      <td>60000000.0</td>\n",
       "      <td>1000</td>\n",
       "    </tr>\n",
       "    <tr>\n",
       "      <th>18198</th>\n",
       "      <td>J. Livesey</td>\n",
       "      <td>60000000.0</td>\n",
       "      <td>1000</td>\n",
       "    </tr>\n",
       "    <tr>\n",
       "      <th>18199</th>\n",
       "      <td>M. Baldisimo</td>\n",
       "      <td>70000000.0</td>\n",
       "      <td>1000</td>\n",
       "    </tr>\n",
       "    <tr>\n",
       "      <th>18200</th>\n",
       "      <td>J. Young</td>\n",
       "      <td>60000000.0</td>\n",
       "      <td>1000</td>\n",
       "    </tr>\n",
       "    <tr>\n",
       "      <th>18201</th>\n",
       "      <td>D. Walsh</td>\n",
       "      <td>60000000.0</td>\n",
       "      <td>1000</td>\n",
       "    </tr>\n",
       "    <tr>\n",
       "      <th>18202</th>\n",
       "      <td>J. Lundstram</td>\n",
       "      <td>60000000.0</td>\n",
       "      <td>1000</td>\n",
       "    </tr>\n",
       "    <tr>\n",
       "      <th>18203</th>\n",
       "      <td>N. Christoffersson</td>\n",
       "      <td>60000000.0</td>\n",
       "      <td>1000</td>\n",
       "    </tr>\n",
       "    <tr>\n",
       "      <th>18204</th>\n",
       "      <td>B. Worman</td>\n",
       "      <td>60000000.0</td>\n",
       "      <td>1000</td>\n",
       "    </tr>\n",
       "    <tr>\n",
       "      <th>18205</th>\n",
       "      <td>D. Walker-Rice</td>\n",
       "      <td>60000000.0</td>\n",
       "      <td>1000</td>\n",
       "    </tr>\n",
       "    <tr>\n",
       "      <th>18206</th>\n",
       "      <td>G. Nugent</td>\n",
       "      <td>60000000.0</td>\n",
       "      <td>1000</td>\n",
       "    </tr>\n",
       "  </tbody>\n",
       "</table>\n",
       "<p>17955 rows × 3 columns</p>\n",
       "</div>"
      ],
      "text/plain": [
       "                       Name        Value    Wage\n",
       "0                  L. Messi  110500000.0  565000\n",
       "1         Cristiano Ronaldo   77000000.0  405000\n",
       "2                 Neymar Jr  118500000.0  290000\n",
       "3                    De Gea   72000000.0  260000\n",
       "4              K. De Bruyne  102000000.0  355000\n",
       "5                 E. Hazard   93000000.0  340000\n",
       "6                 L. Modrić   67000000.0  420000\n",
       "7                 L. Suárez   80000000.0  455000\n",
       "8              Sergio Ramos   51000000.0  380000\n",
       "9                  J. Oblak   68000000.0   94000\n",
       "10           R. Lewandowski   77000000.0  205000\n",
       "11                 T. Kroos   76500000.0  355000\n",
       "12                 D. Godín   44000000.0  125000\n",
       "13              David Silva   60000000.0  285000\n",
       "14                 N. Kanté   63000000.0  225000\n",
       "15                P. Dybala   89000000.0  205000\n",
       "16                  H. Kane   83500000.0  205000\n",
       "17             A. Griezmann   78000000.0  145000\n",
       "18            M. ter Stegen   58000000.0  240000\n",
       "19              T. Courtois   53500000.0  240000\n",
       "20          Sergio Busquets   51500000.0  315000\n",
       "21                E. Cavani   60000000.0  200000\n",
       "22                 M. Neuer   38000000.0  130000\n",
       "23                S. Agüero   64500000.0  300000\n",
       "24             G. Chiellini   27000000.0  215000\n",
       "25                K. Mbappé   81000000.0  100000\n",
       "26                 M. Salah   69500000.0  255000\n",
       "27                 Casemiro   59500000.0  285000\n",
       "28             J. Rodríguez   69500000.0  315000\n",
       "29               L. Insigne   62000000.0  165000\n",
       "...                     ...          ...     ...\n",
       "18176            T. Hillman   40000000.0    1000\n",
       "18177             R. Roache   70000000.0    1000\n",
       "18178          L. Wahlstedt   50000000.0    1000\n",
       "18179           J. Williams   50000000.0    1000\n",
       "18180              M. Hurst   40000000.0    1000\n",
       "18181              C. Maher   50000000.0    1000\n",
       "18182               Y. Góez   50000000.0    1000\n",
       "18184             D. Horton   40000000.0    1000\n",
       "18185              E. Tweed   50000000.0    1000\n",
       "18186          Zhang Yufeng   60000000.0    1000\n",
       "18187             C. Ehlich   40000000.0    1000\n",
       "18188            L. Collins   60000000.0    1000\n",
       "18189            A. Kaltner   60000000.0    1000\n",
       "18190            L. Watkins   60000000.0    1000\n",
       "18191  J. Norville-Williams   50000000.0    1000\n",
       "18192             S. Squire   50000000.0    1000\n",
       "18193            N. Fuentes   50000000.0    1000\n",
       "18194              J. Milli   50000000.0    1000\n",
       "18195            S. Griffin   60000000.0    1000\n",
       "18196           K. Fujikawa   60000000.0    1000\n",
       "18197            D. Holland   60000000.0    1000\n",
       "18198            J. Livesey   60000000.0    1000\n",
       "18199          M. Baldisimo   70000000.0    1000\n",
       "18200              J. Young   60000000.0    1000\n",
       "18201              D. Walsh   60000000.0    1000\n",
       "18202          J. Lundstram   60000000.0    1000\n",
       "18203    N. Christoffersson   60000000.0    1000\n",
       "18204             B. Worman   60000000.0    1000\n",
       "18205        D. Walker-Rice   60000000.0    1000\n",
       "18206             G. Nugent   60000000.0    1000\n",
       "\n",
       "[17955 rows x 3 columns]"
      ]
     },
     "execution_count": 523,
     "metadata": {},
     "output_type": "execute_result"
    }
   ],
   "source": [
    "soccer_dataset[[\"Name\", \"Value\", \"Wage\"]]"
   ]
  },
  {
   "cell_type": "code",
   "execution_count": 524,
   "metadata": {},
   "outputs": [
    {
     "data": {
      "image/png": "[encoded data removed]",
      "text/plain": [
       "<Figure size 432x288 with 1 Axes>"
      ]
     },
     "metadata": {
      "needs_background": "light"
     },
     "output_type": "display_data"
    }
   ],
   "source": [
    "soccer_dataset.plot.scatter(x=\"Value\", y=\"Wage\");"
   ]
  },
  {
   "cell_type": "code",
   "execution_count": 525,
   "metadata": {},
   "outputs": [
    {
     "data": {
      "text/html": [
       "<div>\n",
       "<style scoped>\n",
       "    .dataframe tbody tr th:only-of-type {\n",
       "        vertical-align: middle;\n",
       "    }\n",
       "\n",
       "    .dataframe tbody tr th {\n",
       "        vertical-align: top;\n",
       "    }\n",
       "\n",
       "    .dataframe thead th {\n",
       "        text-align: right;\n",
       "    }\n",
       "</style>\n",
       "<table border=\"1\" class=\"dataframe\">\n",
       "  <thead>\n",
       "    <tr style=\"text-align: right;\">\n",
       "      <th></th>\n",
       "      <th>Name</th>\n",
       "      <th>Value</th>\n",
       "      <th>Wage</th>\n",
       "      <th>Overall</th>\n",
       "      <th>Potential</th>\n",
       "    </tr>\n",
       "  </thead>\n",
       "  <tbody>\n",
       "    <tr>\n",
       "      <th>8420</th>\n",
       "      <td>D. Kolovos</td>\n",
       "      <td>975000000.0</td>\n",
       "      <td>3000</td>\n",
       "      <td>67</td>\n",
       "      <td>71</td>\n",
       "    </tr>\n",
       "    <tr>\n",
       "      <th>5150</th>\n",
       "      <td>J. Martins Pereira</td>\n",
       "      <td>975000000.0</td>\n",
       "      <td>5000</td>\n",
       "      <td>70</td>\n",
       "      <td>70</td>\n",
       "    </tr>\n",
       "    <tr>\n",
       "      <th>7262</th>\n",
       "      <td>B. Pittón</td>\n",
       "      <td>975000000.0</td>\n",
       "      <td>5000</td>\n",
       "      <td>68</td>\n",
       "      <td>73</td>\n",
       "    </tr>\n",
       "    <tr>\n",
       "      <th>5125</th>\n",
       "      <td>M. Casierra</td>\n",
       "      <td>975000000.0</td>\n",
       "      <td>1000</td>\n",
       "      <td>70</td>\n",
       "      <td>70</td>\n",
       "    </tr>\n",
       "    <tr>\n",
       "      <th>9265</th>\n",
       "      <td>H. Alpsoy</td>\n",
       "      <td>975000000.0</td>\n",
       "      <td>4000</td>\n",
       "      <td>66</td>\n",
       "      <td>77</td>\n",
       "    </tr>\n",
       "    <tr>\n",
       "      <th>6475</th>\n",
       "      <td>J. Joronen</td>\n",
       "      <td>975000000.0</td>\n",
       "      <td>7000</td>\n",
       "      <td>69</td>\n",
       "      <td>73</td>\n",
       "    </tr>\n",
       "    <tr>\n",
       "      <th>7366</th>\n",
       "      <td>B. Bese</td>\n",
       "      <td>975000000.0</td>\n",
       "      <td>3000</td>\n",
       "      <td>68</td>\n",
       "      <td>72</td>\n",
       "    </tr>\n",
       "    <tr>\n",
       "      <th>7067</th>\n",
       "      <td>Luis Valcarce</td>\n",
       "      <td>975000000.0</td>\n",
       "      <td>4000</td>\n",
       "      <td>68</td>\n",
       "      <td>73</td>\n",
       "    </tr>\n",
       "    <tr>\n",
       "      <th>7065</th>\n",
       "      <td>F. Grillo</td>\n",
       "      <td>975000000.0</td>\n",
       "      <td>8000</td>\n",
       "      <td>68</td>\n",
       "      <td>72</td>\n",
       "    </tr>\n",
       "    <tr>\n",
       "      <th>9250</th>\n",
       "      <td>B. Innocent</td>\n",
       "      <td>975000000.0</td>\n",
       "      <td>2000</td>\n",
       "      <td>66</td>\n",
       "      <td>77</td>\n",
       "    </tr>\n",
       "  </tbody>\n",
       "</table>\n",
       "</div>"
      ],
      "text/plain": [
       "                    Name        Value  Wage  Overall  Potential\n",
       "8420          D. Kolovos  975000000.0  3000       67         71\n",
       "5150  J. Martins Pereira  975000000.0  5000       70         70\n",
       "7262           B. Pittón  975000000.0  5000       68         73\n",
       "5125         M. Casierra  975000000.0  1000       70         70\n",
       "9265           H. Alpsoy  975000000.0  4000       66         77\n",
       "6475          J. Joronen  975000000.0  7000       69         73\n",
       "7366             B. Bese  975000000.0  3000       68         72\n",
       "7067       Luis Valcarce  975000000.0  4000       68         73\n",
       "7065           F. Grillo  975000000.0  8000       68         72\n",
       "9250         B. Innocent  975000000.0  2000       66         77"
      ]
     },
     "execution_count": 525,
     "metadata": {},
     "output_type": "execute_result"
    }
   ],
   "source": [
    "soccer_dataset[[\"Name\", \"Value\", \"Wage\", \"Overall\", \"Potential\"]].sort_values(ascending=False, by=\"Value\").head(10)"
   ]
  },
  {
   "cell_type": "markdown",
   "metadata": {},
   "source": [
    "This scatter plot demonstrates a problem with the dataset.  These players have unreasonably high values given their other attributes (as seen in the smaller data table above).  I think there must be an issue with the FIFA dataset with these players.  There is a small portion of this graph that looks accurate, the portion under the value of €0.2*10^9 shows a clear linear trend, as value increases wage increases as well.  This is what I expected to see from the whole graph."
   ]
  },
  {
   "cell_type": "code",
   "execution_count": 526,
   "metadata": {},
   "outputs": [
    {
     "data": {
      "image/png": "[encoded data removed]",
      "text/plain": [
       "<Figure size 432x288 with 1 Axes>"
      ]
     },
     "metadata": {
      "needs_background": "light"
     },
     "output_type": "display_data"
    }
   ],
   "source": [
    "soccer_dataset.plot.scatter(x=\"Value\", y=\"Overall\");"
   ]
  },
  {
   "cell_type": "markdown",
   "metadata": {},
   "source": [
    "This scatter plot confirms that there must be an issue with the dataset.  There should not be players with such drastically high values and low overall ratings.  Once again, there is a small portion of these results that look as I would expect them.  For some of the values before €0.2*10^9, we can see a logarithmic increase of overall rating as value increases."
   ]
  },
  {
   "cell_type": "markdown",
   "metadata": {},
   "source": [
    "Therefore, this column of \"Value\" is a little useless to us, as it appears to have unreasonable outliers that will skew our graphs.  With this knowledge, we will move onto looking into new aspects of the dataset."
   ]
  },
  {
   "cell_type": "markdown",
   "metadata": {},
   "source": [
    "## Lastly, let's investigate the most important skill to have as a player."
   ]
  },
  {
   "cell_type": "code",
   "execution_count": 527,
   "metadata": {},
   "outputs": [],
   "source": [
    "def mean_trend(col_calc):\n",
    "    soccer_dataset.groupby('Overall')[col_calc].mean().plot()\n",
    "    plt.ylabel(col_calc)\n",
    "    plt.title(\"The Relationship between {} and Overall Rating\".format(col_calc))\n",
    "    plt.show()"
   ]
  },
  {
   "cell_type": "code",
   "execution_count": 528,
   "metadata": {},
   "outputs": [],
   "source": [
    "numerical_variables = soccer_dataset.select_dtypes(include=[np.number]).columns"
   ]
  },
  {
   "cell_type": "code",
   "execution_count": 529,
   "metadata": {},
   "outputs": [
    {
     "data": {
      "application/vnd.jupyter.widget-view+json": {
       "model_id": "a5f6b46bc6d8449db4d7ae8cc58b1482",
       "version_major": 2,
       "version_minor": 0
      },
      "text/plain": [
       "interactive(children=(Dropdown(description='col_calc', options=('Unnamed: 0', 'ID', 'Age', 'Overall', 'Potenti…"
      ]
     },
     "metadata": {},
     "output_type": "display_data"
    }
   ],
   "source": [
    "interact(mean_trend, col_calc=numerical_variables);"
   ]
  },
  {
   "cell_type": "markdown",
   "metadata": {},
   "source": [
    "This interactive graph is interesting.  It allows us to see the many different player attributes in the FIFA dataset compared to overall rating.  Clearly, all of these statistics are important.  All of the player traits are positively correlated with overall rating.  Higher ratings in all of these categories very directly correspond to higher overall ratings.  The only trait that seems to not matter as much in comparison with the overall rating is the \"Balance\" rating.  Furthermore, while almost all of the other ratings have a linear correlation with overall rating, \"International Reputation\" has an exponential correlation with overall rating, which is interesting."
   ]
  },
  {
   "cell_type": "code",
   "execution_count": 530,
   "metadata": {},
   "outputs": [],
   "source": [
    "def mean_trend(col_calc):\n",
    "    soccer_dataset.groupby('Wage')[col_calc].mean().plot()\n",
    "    plt.ylabel(col_calc)\n",
    "    plt.title(\"The Relationship between {} and Wage\".format(col_calc))\n",
    "    plt.show()"
   ]
  },
  {
   "cell_type": "code",
   "execution_count": 531,
   "metadata": {},
   "outputs": [
    {
     "data": {
      "application/vnd.jupyter.widget-view+json": {
       "model_id": "59b317de241e42afafcc0603826ffe4a",
       "version_major": 2,
       "version_minor": 0
      },
      "text/plain": [
       "interactive(children=(Dropdown(description='col_calc', options=('Unnamed: 0', 'ID', 'Age', 'Overall', 'Potenti…"
      ]
     },
     "metadata": {},
     "output_type": "display_data"
    }
   ],
   "source": [
    "interact(mean_trend, col_calc=numerical_variables);"
   ]
  },
  {
   "cell_type": "markdown",
   "metadata": {},
   "source": [
    "This interactive graph is also interesting.  Unlike the graph above, not all of the player trait ratings are correlated in a positive, linear manner with wage.  \"Weak Foot\", \"Skill Moves\", \"Heading Accuracy\", \"Strength\", \"Agression\", \"Interceptions\", \"Marking\", \"StandingTackle\", and \"SlidingTackle\" are not correlated in any specific way with a player's wage.  This is interesting to note, as these traits are all correlated with a player's overall rating, which is supposed to be correlated with wage.  However, all of the other player traits are correlated positively with wage, so when these ratings increse, wage increases.  Interestingly, some of these are correlated in a linear manner and some in an exponential manner."
   ]
  },
  {
   "cell_type": "markdown",
   "metadata": {},
   "source": [
    "Therefore, the graphs above illustrate that to be an elite player, one needs to have high ratings in every aspect of his/her game.  Every category and skill is important.  Achieving a high overall score only comes with high ratings in every possible skill."
   ]
  },
  {
   "cell_type": "markdown",
   "metadata": {},
   "source": [
    "Nonetheless, there is one last thing that must be discussed.  All of this information derives from the FIFA dataset with FIFA ratings in each category.  We can assume these ratings are not just arbitrary numbers, but we must keep in mind that we do not know how these ratings are created.  Thus, we must absorb this information with a slight grain of salt.  As well, many of these graphs are based on the category of \"Overall\".  There is the possibility that this category was calculated looking at all of the other statistics/ratings in this dataset.  Therefore, it creates a kind of cyclical process of data analysis.  If one variable was based off another, the results will obviously turn out a certain way, and this will not predict anything new or insightful.  This should not negate everything in this file.  However, it should be noted while observing these results. "
   ]
  }
 ],
 "metadata": {
  "kernelspec": {
   "display_name": "Python 3",
   "language": "python",
   "name": "python3"
  },
  "language_info": {
   "codemirror_mode": {
    "name": "ipython",
    "version": 3
   },
   "file_extension": ".py",
   "mimetype": "text/x-python",
   "name": "python",
   "nbconvert_exporter": "python",
   "pygments_lexer": "ipython3",
   "version": "3.7.3"
  }
 },
 "nbformat": 4,
 "nbformat_minor": 2
}
